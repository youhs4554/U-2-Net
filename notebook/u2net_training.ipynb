{
 "cells": [
  {
   "cell_type": "code",
   "execution_count": 1,
   "metadata": {},
   "outputs": [],
   "source": [
    "%load_ext autoreload\n",
    "%autoreload 2\n",
    "\n",
    "import sys\n",
    "sys.path.append('..') # for library importing"
   ]
  },
  {
   "cell_type": "code",
   "execution_count": 2,
   "metadata": {},
   "outputs": [],
   "source": [
    "import torchvision\n",
    "from torchvision import transforms\n",
    "\n",
    "from utils import *\n",
    "from data_loader import RescaleT, RandomCrop, ToTensorLab"
   ]
  },
  {
   "cell_type": "code",
   "execution_count": 3,
   "metadata": {},
   "outputs": [],
   "source": [
    "class PatSegDataset():\n",
    "    def __init__(self, annotation_file, \n",
    "                 frame_root=\"/data/GaitData/RawFrames\", transform=None):\n",
    "        \n",
    "        self.anno = load_annotation(annotation_file, frame_root)\n",
    "        self.transform = transform\n",
    "        \n",
    "    def __len__(self):\n",
    "        return len(self.anno)\n",
    "    \n",
    "    def __getitem__(self, idx):\n",
    "        filename = self.anno.path.iloc[idx]\n",
    "        \n",
    "        image  = Image.open(filename)\n",
    "        label  = get_mask_label(self.anno, filename, visualize=False)\n",
    "        \n",
    "        image = np.array(image)\n",
    "        label = np.array(label)[..., np.newaxis] # add last channel\n",
    "        imidx = np.array([idx])\n",
    "                \n",
    "        sample = {'imidx': imidx, 'image': image, 'label': label}\n",
    "        \n",
    "        if self.transform:\n",
    "            sample = self.transform(sample)\n",
    "                        \n",
    "        return sample"
   ]
  },
  {
   "cell_type": "code",
   "execution_count": 4,
   "metadata": {},
   "outputs": [
    {
     "name": "stdout",
     "output_type": "stream",
     "text": [
      "Total:  672138\n"
     ]
    }
   ],
   "source": [
    "anno_file = \"../data/person_detection_and_tracking_results_drop-Gaitparams_PD.pkl\"\n",
    "frame_root = '/data/GaitData/RawFrames'\n",
    "\n",
    "ds = PatSegDataset(anno_file, frame_root, \n",
    "                   transform=transforms.Compose([\n",
    "                       RescaleT(320),\n",
    "                       RandomCrop(288),\n",
    "                       ToTensorLab(flag=0)]))"
   ]
  },
  {
   "cell_type": "code",
   "execution_count": 33,
   "metadata": {},
   "outputs": [
    {
     "data": {
      "text/plain": [
       "<matplotlib.legend.Legend at 0x7f78fd6d07d0>"
      ]
     },
     "execution_count": 33,
     "metadata": {},
     "output_type": "execute_result"
    },
    {
     "data": {
      "image/png": "[encoded data removed]",
      "text/plain": [
       "<Figure size 432x288 with 1 Axes>"
      ]
     },
     "metadata": {
      "needs_background": "light"
     },
     "output_type": "display_data"
    }
   ],
   "source": [
    "def plot_training_loss(rank=0):\n",
    "    log_file = \"../logs/u2net/rank.{}/stdout\".format(rank)\n",
    "    train_loss = []\n",
    "    for line in open(log_file):\n",
    "        if \"train loss: \" in line:\n",
    "            loss_val = eval(line[line.index(\"train loss: \"):line.index(\"tar: \")-2].replace(\"train loss: \", \"\"))\n",
    "            train_loss.append(loss_val)\n",
    "    plt.plot(train_loss, label='rank-{}'.format(rank))\n",
    "    plt.ylim(0, 0.5)\n",
    "\n",
    "n_ranks = 6\n",
    "for i in range(n_ranks):\n",
    "    plot_training_loss(i)\n",
    "    \n",
    "plt.legend()"
   ]
  },
  {
   "cell_type": "code",
   "execution_count": null,
   "metadata": {},
   "outputs": [],
   "source": []
  }
 ],
 "metadata": {
  "interpreter": {
   "hash": "4002dd8da2cda2fd6d0fb4246fe69008d81da486cb114c009893ae21488d36c9"
  },
  "kernelspec": {
   "display_name": "Python 3",
   "language": "python",
   "name": "python3"
  },
  "language_info": {
   "codemirror_mode": {
    "name": "ipython",
    "version": 3
   },
   "file_extension": ".py",
   "mimetype": "text/x-python",
   "name": "python",
   "nbconvert_exporter": "python",
   "pygments_lexer": "ipython3",
   "version": "3.7.6"
  }
 },
 "nbformat": 4,
 "nbformat_minor": 2
}
