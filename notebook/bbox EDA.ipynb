{
 "cells": [
  {
   "cell_type": "code",
   "execution_count": 1,
   "metadata": {},
   "outputs": [],
   "source": [
    "import sys\n",
    "sys.path.append('../')"
   ]
  },
  {
   "cell_type": "code",
   "execution_count": 2,
   "metadata": {},
   "outputs": [],
   "source": [
    "from utils import load_annotation"
   ]
  },
  {
   "cell_type": "code",
   "execution_count": 4,
   "metadata": {},
   "outputs": [
    {
     "name": "stdout",
     "output_type": "stream",
     "text": [
      "Total:  672138\n"
     ]
    },
    {
     "data": {
      "text/html": [
       "<div>\n",
       "<style scoped>\n",
       "    .dataframe tbody tr th:only-of-type {\n",
       "        vertical-align: middle;\n",
       "    }\n",
       "\n",
       "    .dataframe tbody tr th {\n",
       "        vertical-align: top;\n",
       "    }\n",
       "\n",
       "    .dataframe thead th {\n",
       "        text-align: right;\n",
       "    }\n",
       "</style>\n",
       "<table border=\"1\" class=\"dataframe\">\n",
       "  <thead>\n",
       "    <tr style=\"text-align: right;\">\n",
       "      <th></th>\n",
       "      <th>path</th>\n",
       "      <th>pos</th>\n",
       "    </tr>\n",
       "  </thead>\n",
       "  <tbody>\n",
       "    <tr>\n",
       "      <th>0</th>\n",
       "      <td>/data/GaitData/RawFrames/7119824_test_0_trial_...</td>\n",
       "      <td>171.8476104736328,0.74737548828125,418.3994598...</td>\n",
       "    </tr>\n",
       "    <tr>\n",
       "      <th>1</th>\n",
       "      <td>/data/GaitData/RawFrames/7119824_test_0_trial_...</td>\n",
       "      <td>162.7849578857422,4.991180419921875,418.596694...</td>\n",
       "    </tr>\n",
       "    <tr>\n",
       "      <th>2</th>\n",
       "      <td>/data/GaitData/RawFrames/7119824_test_0_trial_...</td>\n",
       "      <td>155.2943572998047,3.7421722412109375,425.62208...</td>\n",
       "    </tr>\n",
       "    <tr>\n",
       "      <th>3</th>\n",
       "      <td>/data/GaitData/RawFrames/7119824_test_0_trial_...</td>\n",
       "      <td>153.48960876464844,8.34130859375,423.816116333...</td>\n",
       "    </tr>\n",
       "    <tr>\n",
       "      <th>4</th>\n",
       "      <td>/data/GaitData/RawFrames/7119824_test_0_trial_...</td>\n",
       "      <td>150.11587524414062,3.5623321533203125,425.6660...</td>\n",
       "    </tr>\n",
       "  </tbody>\n",
       "</table>\n",
       "</div>"
      ],
      "text/plain": [
       "                                                path                                                pos\n",
       "0  /data/GaitData/RawFrames/7119824_test_0_trial_...  171.8476104736328,0.74737548828125,418.3994598...\n",
       "1  /data/GaitData/RawFrames/7119824_test_0_trial_...  162.7849578857422,4.991180419921875,418.596694...\n",
       "2  /data/GaitData/RawFrames/7119824_test_0_trial_...  155.2943572998047,3.7421722412109375,425.62208...\n",
       "3  /data/GaitData/RawFrames/7119824_test_0_trial_...  153.48960876464844,8.34130859375,423.816116333...\n",
       "4  /data/GaitData/RawFrames/7119824_test_0_trial_...  150.11587524414062,3.5623321533203125,425.6660..."
      ]
     },
     "execution_count": 4,
     "metadata": {},
     "output_type": "execute_result"
    }
   ],
   "source": [
    "annotation_file = \"../data/person_detection_and_tracking_results_drop-Gaitparams_PD.pkl\"\n",
    "frame_root = \"/data/GaitData/RawFrames\"\n",
    "\n",
    "anno = load_annotation(annotation_file, frame_root)\n",
    "anno.head()"
   ]
  },
  {
   "cell_type": "code",
   "execution_count": 65,
   "metadata": {},
   "outputs": [
    {
     "name": "stdout",
     "output_type": "stream",
     "text": [
      "number of videos: 3693\n"
     ]
    }
   ],
   "source": [
    "# group by video name\n",
    "fn = lambda row: os.path.dirname(row)\n",
    "video_names = anno.path.apply(fn).unique()\n",
    "print(\"number of videos: {}\".format(len(video_names)))"
   ]
  },
  {
   "cell_type": "code",
   "execution_count": 29,
   "metadata": {},
   "outputs": [],
   "source": [
    "import numpy as np\n",
    "import matplotlib.pyplot as plt"
   ]
  },
  {
   "cell_type": "code",
   "execution_count": 25,
   "metadata": {},
   "outputs": [],
   "source": [
    "# bbox positions\n",
    "bbox_data = anno.pos.apply(lambda x: eval(x)).values.tolist()\n",
    "bbox_data = np.array(bbox_data)"
   ]
  },
  {
   "cell_type": "code",
   "execution_count": 27,
   "metadata": {},
   "outputs": [
    {
     "data": {
      "text/plain": [
       "(672138, 4)"
      ]
     },
     "execution_count": 27,
     "metadata": {},
     "output_type": "execute_result"
    }
   ],
   "source": [
    "bbox_data.shape"
   ]
  },
  {
   "cell_type": "code",
   "execution_count": 38,
   "metadata": {},
   "outputs": [
    {
     "data": {
      "text/plain": [
       "<matplotlib.legend.Legend at 0x7f76e9d278d0>"
      ]
     },
     "execution_count": 38,
     "metadata": {},
     "output_type": "execute_result"
    },
    {
     "data": {
      "image/png": "[encoded data removed]",
      "text/plain": [
       "<Figure size 432x288 with 1 Axes>"
      ]
     },
     "metadata": {
      "needs_background": "light"
     },
     "output_type": "display_data"
    }
   ],
   "source": [
    "columns = ['xmin', 'ymin', 'xmax', 'ymax']\n",
    "for i,name in enumerate(columns):\n",
    "    plt.hist(bbox_data[:, i], label=name, bins=100, alpha=0.7)\n",
    "plt.legend()"
   ]
  },
  {
   "cell_type": "code",
   "execution_count": 44,
   "metadata": {},
   "outputs": [
    {
     "data": {
      "text/plain": [
       "<matplotlib.legend.Legend at 0x7f76e29e1850>"
      ]
     },
     "execution_count": 44,
     "metadata": {},
     "output_type": "execute_result"
    },
    {
     "data": {
      "image/png": "[encoded data removed]",
      "text/plain": [
       "<Figure size 432x288 with 1 Axes>"
      ]
     },
     "metadata": {
      "needs_background": "light"
     },
     "output_type": "display_data"
    }
   ],
   "source": [
    "plt.scatter(bbox_data[:, 0], bbox_data[:, 1], label='p1', alpha=0.5)\n",
    "plt.scatter(bbox_data[:, 2], bbox_data[:, 3], label='p2', alpha=0.5)\n",
    "plt.legend()"
   ]
  },
  {
   "cell_type": "code",
   "execution_count": null,
   "metadata": {},
   "outputs": [],
   "source": []
  }
 ],
 "metadata": {
  "kernelspec": {
   "display_name": "Python 3",
   "language": "python",
   "name": "python3"
  },
  "language_info": {
   "codemirror_mode": {
    "name": "ipython",
    "version": 3
   },
   "file_extension": ".py",
   "mimetype": "text/x-python",
   "name": "python",
   "nbconvert_exporter": "python",
   "pygments_lexer": "ipython3",
   "version": "3.7.6"
  }
 },
 "nbformat": 4,
 "nbformat_minor": 4
}
